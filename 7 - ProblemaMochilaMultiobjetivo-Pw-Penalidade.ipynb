{
 "cells": [
  {
   "cell_type": "markdown",
   "metadata": {},
   "source": [
    "# Teoria da Decisão - ELE088\n",
    "\n",
    "*Prof. Lucas S. Batista*  \n",
    "*Departamento de Engenharia Elétrica*  \n",
    "*Universidade Federal de Minas Gerais* "
   ]
  },
  {
   "cell_type": "markdown",
   "metadata": {},
   "source": [
    "# Estudo de Caso\n",
    "\n",
    "## Problema da Mochila Multiobjetivo Binário:\n",
    "\n",
    "- Considere $n$ projetos, $m$ objetivos e um capital de investimento $b$. O projeto $j$ tem um custo $a_j$ e um retorno esperado $p_{ij}$ de acordo com o $i$-ésimo objetivo. Formule um problema que permita selecionar o portfólio de projetos que maximiza o retorno de cada um dos objetivos sem exceder os recursos disponíveis."
   ]
  },
  {
   "cell_type": "markdown",
   "metadata": {},
   "source": [
    "## Modelagem do problema\n",
    "\n",
    "Assumindo que $x_{j}$ represente as variáveis de otimização do problema, pode-se definir que se $x_{j} = 1$, então o projeto $j$ é selecionado; caso contrário, i.e., se $x_{j} = 0$, então o $j$-ésimo projeto não é escolhido.\n",
    "\n",
    "Com o intúito de maximizar o retorno total do portifólio de projetos, pode-se escrever as seguintes funções objetivo:\n",
    "\n",
    "$$ \\max_x \\sum_{j=1}^{n} p_{ij} x_{j}, ~~~ \\forall i \\in \\{1, 2, \\ldots, m\\} $$\n",
    "\n",
    "Adicionalmente, este problema apresenta o seguinte conjunto de restrições:\n",
    "\n",
    "\\begin{align} \n",
    "\\sum_{j=1}^{n} a_j x_j \\leq b, \\hspace{2cm} (R1) \\\\\n",
    "x_{j} \\in \\{0, 1\\}, \\forall j \\in \\{1, \\ldots, n\\} \\hspace{2cm} (R2)\n",
    "\\end{align}\n",
    "\n",
    "em que **R1** assegura que o portifólio de projetos escolhidos não ultrapassará o limite de capital disponível; e **R2** define o domínio das variáveis de decisão $x_{j}$."
   ]
  },
  {
   "cell_type": "markdown",
   "metadata": {},
   "source": [
    "## Otimização de uma instância arbitrária do problema via RVNS\n",
    "\n",
    "A seguir são apresentados os trechos de código da implementação do RVNS para o estudo de caso apresentado."
   ]
  },
  {
   "cell_type": "code",
   "execution_count": 4,
   "metadata": {},
   "outputs": [],
   "source": [
    "'''\n",
    "Importa os módulos usados\n",
    "'''\n",
    "import numpy as np\n",
    "import matplotlib.pyplot as plt\n",
    "import copy\n",
    "from rvns import rvns_approach\n",
    "\n",
    "'''\n",
    "Define um tipo de dado similar ao Pascal \"record\" or C \"struct\"\n",
    "'''\n",
    "class Struct:\n",
    "    pass"
   ]
  },
  {
   "cell_type": "markdown",
   "metadata": {},
   "source": [
    "Os dados da instância teste são definidos a seguir. Note que considera-se um número de projetos *default* $n = 50$. Além disso, assume-se um vetor de custos $a$ em que o custo de investimento em um projeto $j$ é dado na posição $a_j$; de forma semelhante, tem-se uma matriz de retornos $p$ em que o retorno financeiro de um projeto $j$ em relação ao objetivo $i$ é dado na posição $p_{ij}$. O capital de investimento disponível é informado em $b$."
   ]
  },
  {
   "cell_type": "code",
   "execution_count": 5,
   "metadata": {},
   "outputs": [],
   "source": [
    "'''\n",
    "Define os dados de uma instância arbitrária do problema\n",
    "'''\n",
    "def probdef(m=2,n=50):\n",
    "    \n",
    "    # m: número de objetivos considerados\n",
    "    # n: número de projetos considerados\n",
    "        \n",
    "    '''\n",
    "    Capital disponível: b\n",
    "    Vetor de custos:    a = [a1 a2 ... an]\n",
    "    Matriz de retornos: p = [p11 ... p1n\n",
    "                             p21 ...\n",
    "                                 ...\n",
    "                             pm1 ... pmn]    \n",
    "    '''\n",
    "    \n",
    "    np.random.seed(13) \n",
    "    a = np.random.randint(10,100,size=n)        # considera custos inteiros aleatórios no conjunto {10, 11, ..., 99}\n",
    "    p = 10*np.random.randint(10,100,size=(m,n)) # considera retornos inteiros aleatórios no conjunto 10*{10, 11, ..., 99}\n",
    "    b = 0.6*a.sum(axis=0) # capital disponível igual a 60% do montante necessário para investir em todos os projetos\n",
    "    np.random.seed()\n",
    "    \n",
    "    probdata = Struct()\n",
    "    probdata.a = a\n",
    "    probdata.p = p\n",
    "    probdata.b = b\n",
    "    probdata.m = m\n",
    "    probdata.n = n\n",
    "    \n",
    "    return probdata"
   ]
  },
  {
   "cell_type": "markdown",
   "metadata": {},
   "source": [
    "Uma solução candidata $x = (x_1, x_2, ..., x_n)$ para o problema foi modelada computacionalmente como um vetor binário, em que $x_j = 1$ indica aporte de investimento no $j$-ésimo projeto; caso contrário, $x_j = 0$."
   ]
  },
  {
   "cell_type": "code",
   "execution_count": 6,
   "metadata": {},
   "outputs": [],
   "source": [
    "'''\n",
    "Implementa uma solução inicial para o problema\n",
    "'''\n",
    "def sol_inicial(probdata,w,apply_constructive_heuristic):\n",
    "    \n",
    "    '''  \n",
    "    Modelou-se uma solução x como um vetor binário\n",
    "    \n",
    "    x = [x1 x2 ... xn]\n",
    "    '''\n",
    "    \n",
    "    if apply_constructive_heuristic == False: \n",
    "        # Constrói solução inicial aleatoriamente\n",
    "        x = Struct()    \n",
    "        x.solution = np.random.randint(0,2,size=probdata.n)    \n",
    "    \n",
    "    else:\n",
    "        # Constrói solução inicial usando uma heurística construtiva\n",
    "        x = Struct()\n",
    "        x.solution = np.zeros(shape=probdata.n,dtype=int)        \n",
    "        weighted_profit = np.dot(w, probdata.p)        \n",
    "        sorted_projects = np.argsort(weighted_profit - probdata.a) # projetos ordenados assumindo a diferença 'wpj - aj' \n",
    "\n",
    "        custo_acumulado = 0.0                   # inclue os melhores projetos até atingir o capital limite\n",
    "        for proj in sorted_projects[::-1]:\n",
    "            custo_acumulado += probdata.a[proj]\n",
    "            if custo_acumulado <= probdata.b:\n",
    "                x.solution[proj] = 1\n",
    "            else:\n",
    "                break\n",
    "        \n",
    "    return x"
   ]
  },
  {
   "cell_type": "markdown",
   "metadata": {},
   "source": [
    "A função objetivo é implementada conforme a definição apresentada anteriormente. De forma geral, dada uma solução $x$, que indica os projetos escolhidos para investimento, esta função computa o somatório dos retornos para cada um dos objetivos."
   ]
  },
  {
   "cell_type": "code",
   "execution_count": 7,
   "metadata": {},
   "outputs": [],
   "source": [
    "'''\n",
    "Implementa a função objetivo do problema\n",
    "'''\n",
    "def obj_functions(x, probdata):\n",
    "    \n",
    "    ''' \n",
    "    x = [x1 x2 ... xn]\n",
    "    '''\n",
    "    \n",
    "    sol     = np.transpose(np.array(x.solution))       # vetor solução transposto\n",
    "    retorno = np.array(probdata.p)                     # matriz com os retornos\n",
    "    custo   = np.array(probdata.a)                     # vetor com os custos\n",
    "    \n",
    "    x.g = np.dot(custo, sol) - probdata.b                      # valor da restrição R2 para a solução x    \n",
    "    penalidade = 100*np.sum(np.where(x.g <= 0, 0, x.g)**2)     # penalidade aplicada sobre a solução x\n",
    "    \n",
    "    x.fitness = list()\n",
    "    x.fitness_penalizado = list()\n",
    "    for i in np.arange(0,probdata.m,1):\n",
    "        fit = - np.dot(retorno[i,:], sol)              # transforma função de maximização em minimização\n",
    "        x.fitness.append(fit)                          # negativo do retorno da solução x para o i-ésimo objetivo\n",
    "        x.fitness_penalizado.append(fit + penalidade)  # negativo do retorno penalizado da solução x para o objetivo i\n",
    "        \n",
    "    return x"
   ]
  },
  {
   "cell_type": "markdown",
   "metadata": {},
   "source": [
    "A função soma ponderada é implementada a seguir."
   ]
  },
  {
   "cell_type": "code",
   "execution_count": 8,
   "metadata": {},
   "outputs": [],
   "source": [
    "'''\n",
    "Implementa a função soma ponderada\n",
    "'''\n",
    "def Pw_function(x, approachinfo, probdata):\n",
    "    \n",
    "    x = obj_functions(x, probdata)\n",
    "    x.single_objective_value = np.dot(approachinfo.w, np.transpose(np.array(x.fitness_penalizado)))\n",
    "    \n",
    "    return x"
   ]
  },
  {
   "cell_type": "markdown",
   "metadata": {},
   "source": [
    "A função a seguir retorna apenas as soluções não-dominadas."
   ]
  },
  {
   "cell_type": "code",
   "execution_count": 9,
   "metadata": {},
   "outputs": [],
   "source": [
    "'''\n",
    "Implementa a função 'non-dominated sorting' (considera minimização)\n",
    "'''\n",
    "def nondominatedsolutions(f):\n",
    "    \n",
    "    N = np.shape(f)[0]    \n",
    "    nondominatedsolindex = np.ones(N,dtype=int)  # armazena o índice das soluções não-dominadas\n",
    "    for i in np.arange(0,N,1):\n",
    "        for j in np.arange(0,N,1):\n",
    "            if j == i:\n",
    "                continue\n",
    "            if np.all(np.array(f[j,:]) <= np.array(f[i,:]))==True and np.any(np.array(f[j,:]) < np.array(f[i,:]))==True:\n",
    "                nondominatedsolindex[i] = 0  # solução i é dominada\n",
    "                break\n",
    "        \n",
    "    return nondominatedsolindex"
   ]
  },
  {
   "cell_type": "markdown",
   "metadata": {},
   "source": [
    "### Estrutura principal da estratégia Soma Ponderada ($P_w$)"
   ]
  },
  {
   "cell_type": "code",
   "execution_count": 10,
   "metadata": {},
   "outputs": [
    {
     "data": {
      "image/png": "[encoded data removed]",
      "text/plain": [
       "<Figure size 720x576 with 1 Axes>"
      ]
     },
     "metadata": {
      "needs_background": "light"
     },
     "output_type": "display_data"
    },
    {
     "data": {
      "image/png": "[encoded data removed]",
      "text/plain": [
       "<Figure size 720x576 with 1 Axes>"
      ]
     },
     "metadata": {
      "needs_background": "light"
     },
     "output_type": "display_data"
    }
   ],
   "source": [
    "'''\n",
    "Implementa a estratégia Pw\n",
    "'''\n",
    "\n",
    "# Faz a leitura dos dados da instância do problema\n",
    "probdata = probdef(m=2,n=50)\n",
    "\n",
    "# Armazena dados para plot\n",
    "archive = Struct()\n",
    "archive.g = []\n",
    "archive.sol = []\n",
    "archive.fitpen = []\n",
    "\n",
    "# Armazena dados da estratégia de otimização mono-objetivo\n",
    "approachinfo = Struct()\n",
    "\n",
    "\n",
    "N = 30                                     # número desejado de soluções Pareto-ótimas ESTIMADAS\n",
    "for i in np.arange(0,N,1):                 # cada iteração mapeia uma solução na fronteira estimada\n",
    "    \n",
    "    w = np.random.random(size=probdata.m)  # gera um vetor de pesos aleatórios\n",
    "    w = w/sum(w)                           # normaliza o vetor de pesos (i.e., sum(w) = 1)\n",
    "    \n",
    "    # Gera solução inicial\n",
    "    x = sol_inicial(probdata,w,apply_constructive_heuristic=True)\n",
    "    \n",
    "    approachinfo.w = w\n",
    "    x = rvns_approach(Pw_function, x, probdata, approachinfo, maxeval=1000)\n",
    "    \n",
    "    archive.g.append(x.g)\n",
    "    archive.sol.append(x.solution)\n",
    "    archive.fitpen.append(x.fitness_penalizado)\n",
    "\n",
    "\n",
    "f = np.array(archive.fitpen)\n",
    "g = np.array(archive.g)\n",
    "F = copy.deepcopy(f[g<=0,:])        # faz uma cópia somente das soluções viáveis\n",
    "NDindex = nondominatedsolutions(F)  # índices das soluções não-dominadas        \n",
    "    \n",
    "if probdata.m == 2:\n",
    "    plt.figure(figsize=(10,8))\n",
    "    plt.plot(f[:,0],f[:,1],'r.')\n",
    "    plt.plot(f[g<=0,0],f[g<=0,1],'b.')\n",
    "    plt.plot(F[NDindex==1,0],F[NDindex==1,1],'ks',markerfacecolor='none',markersize=10)    \n",
    "    plt.legend(['Soluções Inviáveis', 'Soluções Factíveis', 'Fronteira Pareto Estimada'])\n",
    "    plt.title('Soluções estimadas')\n",
    "    plt.xlabel('f1(x)')\n",
    "    plt.ylabel('f2(x)')\n",
    "    plt.show()\n",
    "    \n",
    "    plt.figure(figsize=(10,8))\n",
    "    plt.plot(-f[:,0],-f[:,1],'r.')\n",
    "    plt.plot(-f[g<=0,0],-f[g<=0,1],'b.')     \n",
    "    plt.plot(-F[NDindex==1,0],-F[NDindex==1,1],'ks',markerfacecolor='none',markersize=10)\n",
    "    plt.legend(['Soluções Inviáveis', 'Soluções Factíveis', 'Fronteira Pareto Estimada'])\n",
    "    plt.title('Soluções estimadas')\n",
    "    plt.xlabel('f1(x)')\n",
    "    plt.ylabel('f2(x)')\n",
    "    plt.show()\n",
    "    \n",
    "elif probdata.m == 3:    \n",
    "    fig = plt.figure(figsize=(10,10))\n",
    "    ax = plt.axes(projection='3d')    \n",
    "    ax.plot3D(f[:,0],f[:,1],f[:,2],'r.')\n",
    "    ax.plot3D(f[g<=0,0],f[g<=0,1],f[g<=0,2],'b.')      \n",
    "    ax.plot3D(F[NDindex==1,0],F[NDindex==1,1],F[NDindex==1,2],'ks',markerfacecolor='none',markersize=10)    \n",
    "    ax.legend(['Soluções Inviáveis', 'Soluções Factíveis', 'Fronteira Pareto Estimada'])\n",
    "    plt.title('Soluções estimadas')\n",
    "    ax.set_xlabel('f1(x)')\n",
    "    ax.set_ylabel('f2(x)')\n",
    "    ax.set_zlabel('f3(x)')\n",
    "    plt.show()\n",
    "    \n",
    "    fig = plt.figure(figsize=(10,10))\n",
    "    ax = plt.axes(projection='3d')    \n",
    "    ax.plot3D(-f[:,0],-f[:,1],-f[:,2],'r.')\n",
    "    ax.plot3D(-f[g<=0,0],-f[g<=0,1],-f[g<=0,2],'b.')    \n",
    "    ax.plot3D(-F[NDindex==1,0],-F[NDindex==1,1],-F[NDindex==1,2],'ks',markerfacecolor='none',markersize=10)\n",
    "    ax.legend(['Soluções Inviáveis', 'Soluções Factíveis', 'Fronteira Pareto Estimada'])\n",
    "    plt.title('Soluções estimadas')\n",
    "    ax.set_xlabel('f1(x)')\n",
    "    ax.set_ylabel('f2(x)')\n",
    "    ax.set_zlabel('f3(x)')\n",
    "    plt.show()\n"
   ]
  }
 ],
 "metadata": {
  "kernelspec": {
   "display_name": "Python 3 (ipykernel)",
   "language": "python",
   "name": "python3"
  },
  "language_info": {
   "codemirror_mode": {
    "name": "ipython",
    "version": 3
   },
   "file_extension": ".py",
   "mimetype": "text/x-python",
   "name": "python",
   "nbconvert_exporter": "python",
   "pygments_lexer": "ipython3",
   "version": "3.8.2"
  }
 },
 "nbformat": 4,
 "nbformat_minor": 4
}
